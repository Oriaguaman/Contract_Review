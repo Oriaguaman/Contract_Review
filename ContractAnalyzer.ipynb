{
 "cells": [
  {
   "cell_type": "code",
   "execution_count": 1,
   "id": "4e2a9393-7767-488e-a8bf-27c12dca35bd",
   "metadata": {},
   "outputs": [],
   "source": [
    "# imports\n",
    "import requests"
   ]
  },
  {
   "cell_type": "code",
   "execution_count": 2,
   "id": "29ddd15d-a3c5-4f4e-a678-873f56162724",
   "metadata": {},
   "outputs": [],
   "source": [
    "# Constants\n",
    "\n",
    "OLLAMA_API = \"http://localhost:11434/api/chat\"\n",
    "HEADERS = {\"Content-Type\": \"application/json\"}\n",
    "MODEL = \"llama3\""
   ]
  },
  {
   "cell_type": "code",
   "execution_count": 3,
   "id": "ba86aa52-be42-4103-8a09-6bacff7ee59b",
   "metadata": {},
   "outputs": [
    {
     "name": "stdout",
     "output_type": "stream",
     "text": [
      "Contract of Employment\n",
      "\n",
      "Statement of Terms and Conditions\n",
      "Please note: it is up to you as the employer to keep the contract updated with regard to changes to or new legislation\n",
      "\n",
      "Employer’s name:\n",
      "\n",
      "Employee’s name:\n",
      "\n",
      "Date of commencement of employment:\n",
      "\n",
      "Main place of work: (insert your address)\n",
      "\n",
      "Job title: Personal Assistant/Carer\n",
      "\n",
      "Normal Working Hours:\n",
      "Your hours of work will be\n",
      "(Insert number of hours) weekday hours\n",
      "(Insert number of hours) weekend hours\n",
      "(Insert number of sleepovers if required) sleepover(s)\n",
      "\n",
      "Your qualifying days are (M, T, W, T, F, S, S)\n",
      "\n",
      "There is a need for the employee to be flexible and these hours may be changed as required according to the employer’s needs. Under these circumstances, where hours need to be changed or additional hours worked, the employer will give as much notice as possible.\n",
      "\n",
      "You are entitled to an uninterrupted break of 20 minutes when you daily working time is more than six hours. It should be a break in working time and should not be taken at t\n"
     ]
    }
   ],
   "source": [
    "# !pip install python-docx PyMuPDF\n",
    "\n",
    "from docx import Document\n",
    "\n",
    "def extract_text_from_docx(docx_path):\n",
    "    doc = Document(docx_path)\n",
    "    text = \"\"\n",
    "    for para in doc.paragraphs:\n",
    "        text += para.text + \"\\n\"\n",
    "    return text\n",
    "\n",
    "docx_text = extract_text_from_docx(\"contract1.docx\")\n",
    "print(docx_text[:1000])  # Show first 1000 characters\n",
    "\n"
   ]
  },
  {
   "cell_type": "code",
   "execution_count": 4,
   "id": "a246b4ea-7f40-43ab-ab84-bd58c2687a10",
   "metadata": {},
   "outputs": [],
   "source": [
    "system_prompt =  \"You are Bee LegalEase Hub's AI Legal Assistant, an expert in UK contract law and small business legal compliance. Your job is to help non-lawyers—especially startup founders and small business owners—understand, review, and manage contracts using simple language. You must analyze uploaded contracts for risks, compliance issues, and unclear legal terms. Avoid legal jargon; explain concepts clearly and concisely. When reviewing a contract, highlight problematic clauses, suggest improvements, and flag potential legal or compliance risks. Never give formal legal advice, but always provide actionable guidance based on contract structure, common UK legal practices, and business risks.\"\n"
   ]
  },
  {
   "cell_type": "code",
   "execution_count": 5,
   "id": "d94bc25b-c20a-4b9b-a691-0184244d5e98",
   "metadata": {},
   "outputs": [
    {
     "name": "stdout",
     "output_type": "stream",
     "text": [
      "Please review this sample employment contract and tell me if there are any risks or unclear terms.\n",
      "Contract of Employment\n",
      "\n",
      "Statement of Terms and Conditions\n",
      "Please note: it is up to you as the employer to keep the contract updated with regard to changes to or new legislation\n",
      "\n",
      "Employer’s name:\n",
      "\n",
      "Employee’s name:\n",
      "\n",
      "Date of commencement of employment:\n",
      "\n",
      "Main place of work: (insert your address)\n",
      "\n",
      "Job title: Personal Assistant/Carer\n",
      "\n",
      "Normal Working Hours:\n",
      "Your hours of work will be\n",
      "(Insert number of hours) weekday hours\n",
      "(Insert number of hours) weekend hours\n",
      "(Insert number of sleepovers if required) sleepover(s)\n",
      "\n",
      "Your qualifying days are (M, T, W, T, F, S, S)\n",
      "\n",
      "There is a need for the employee to be flexible and these hours may be changed as required according to the employer’s needs. Under these circumstances, where hours need to be changed or additional hours worked, the employer will give as much notice as possible.\n",
      "\n",
      "You are entitled to an uninterrupted break of 20 minutes when you daily working time is more than six hours. It should be a break in working time and should not be taken at the start, or at the end, of a working day. \n",
      "\n",
      "The maximum amount of time you can be required to work is 48 hours per week and you are entitled to 11 consecutive hours rest in any 24hour period. \n",
      "\n",
      "If your hours of work are regularly between the period of 11pm and 6am you will be offered a free health assessment and will only be required to work a maximum of 7 hours.  Your employer will discuss night time working and current legislation with you in more detail if it is applicable. \n",
      "\n",
      "Basis of Employment:\n",
      "Your employment is on a (fixed term/permanent, part time/full time) basis. \n",
      "\n",
      "(If the contract is on a temporary or fixed term basis you must include an end date when the contract will finish. If the contract is fixed term you should reference what the purpose of it is i.e to complete a particular project)\n",
      "\n",
      "(* insert or delete as appropriate)This post is also subject to a satisfactory Disclosure and Barring Service check and references. \n",
      "\n",
      "You may not take up additional employment that is considered to be in any way in conflict with the work you undertake for the employer without the express approval of the employer or their nominee.  Such approval will not be withheld unreasonably but any such employment must not, in the view of the employer conflict with the interests of the employer.\n",
      "\n",
      "You may not, under any circumstances, whether directly or indirectly, undertake any other duties, of whatever kind, during your hours of work for the employer.\n",
      "\n",
      "Salary:\n",
      "As an hourly paid employee, your salary will be £(insert weekday hourly rate before NIC or Tax deductions) for weekdays, £(insert weekend hourly rate before National Insurance Contributions and Tax deductions) for weekends and bank holidays, and £(insert rate for sleepover before National Insurance Contributions and Tax deductions) for sleepovers. Your salary is payable (insert either monthly or weekly) and will be paid on (insert date of salary payment. If monthly it could be the third working day of the month or last Friday in the month for example. If weekly insert day of payment) by (insert direct payment into your bank/cheque/cash).\n",
      "\n",
      "The employer will deduct National Insurance and Income Tax as required by law. The employer may also deduct any overpayment of wages or holiday entitlement.\n",
      "\n",
      "Time sheets:\n",
      "You will be required to complete a (insert either monthly / weekly depending on payment of salary) signed time sheet and submit this to the employer on (insert day of the month or week giving time to work out wages or send to payroll agency to ensure wages can be paid on the given date).\n",
      "\n",
      "Holiday entitlement:\n",
      "The holiday year is from (insert holiday year – usually either 1st January – 31st December or 1st April – 31st March). Your holiday entitlement must be taken during this period. Payment will not be made for any unused holiday and these cannot be taken into the next holiday period.\n",
      "\n",
      "The full amount o\n"
     ]
    }
   ],
   "source": [
    "# A function that writes a User Prompt that asks for summaries of websites:\n",
    "\n",
    "user_prompt = \"Please review this sample employment contract and tell me if there are any risks or unclear terms.\"\n",
    "user_prompt+= \"\\n\"\n",
    "user_prompt+= docx_text\n",
    "\n",
    "print(user_prompt[:4000])"
   ]
  },
  {
   "cell_type": "code",
   "execution_count": 9,
   "id": "dac0a679-599c-441f-9bf2-ddc73d35b940",
   "metadata": {},
   "outputs": [],
   "source": [
    "# Create a messages list using the same format that we used for OpenAI\n",
    "\n",
    "messages = [\n",
    "    {\n",
    "        \"role\": \"system\",\n",
    "        \"content\": system_prompt\n",
    "    },\n",
    "    {\n",
    "        \"role\": \"user\",\n",
    "        \"content\": user_prompt  # Ollama models handle up to ~4K tokens per prompt\n",
    "    }\n",
    "]\n"
   ]
  },
  {
   "cell_type": "code",
   "execution_count": 10,
   "id": "7745b9c4-57dc-4867-9180-61fa5db55eb8",
   "metadata": {},
   "outputs": [
    {
     "name": "stdout",
     "output_type": "stream",
     "text": [
      "After reviewing the sample employment contract, I've identified some potential risks or unclear terms:\n",
      "\n",
      "1. **Probationary period duration**: The contract doesn't specify the length of the probationary period. This might lead to ambiguity and disputes if an employee is terminated during this period.\n",
      "2. **Gross misconduct examples**: While the list provided is non-exhaustive, it's essential to define gross misconduct clearly and consistently apply these standards throughout employment.\n",
      "3. **Notice periods**: The contract doesn't specify the notice period for termination due to gross misconduct or other circumstances (e.g., redundancy).\n",
      "4. **Reasons for dismissal**: The contract only mentions \"wilful or reckless failure to follow the employer's safety rules\" as an example of gross misconduct, but it's crucial to define what constitutes \"serious negligence,\" \"refusal to carry out duties,\" and other grounds for dismissal.\n",
      "5. **Changes in terms of employment**: While the contract outlines a process for notifying changes, it's essential to specify the types of changes that can be made unilaterally by the employer versus those requiring employee consent.\n",
      "6. **Confidentiality and non-disclosure**: The contract lacks provisions regarding confidentiality, intellectual property, or non-disclosure agreements (NDAs), which are common in employment contracts.\n",
      "7. **Data protection**: As data privacy regulations become increasingly important, it's crucial to include provisions addressing the handling of employee personal data, such as GDPR compliance.\n",
      "8. **Leave policies**: The contract mentions parental leave and time off for dependents, but other types of leave (e.g., sick leave, vacation days) should be explicitly stated or referenced to relevant laws or regulations.\n",
      "9. **Grievance procedure**: While the contract outlines a grievance process, it's essential to ensure that this process is fair, transparent, and consistent with relevant labor laws or collective bargaining agreements (if applicable).\n",
      "10. **Sign-off procedures**: The contract doesn't specify how changes will be approved and signed off by both parties. It's crucial to establish clear procedures for amending the agreement.\n",
      "\n",
      "It's essential to review these points carefully and consider updating the contract to ensure clarity, consistency, and compliance with relevant laws and regulations.\n"
     ]
    }
   ],
   "source": [
    "import ollama\n",
    "\n",
    "response = ollama.chat(model=MODEL, messages=messages)\n",
    "print(response['message']['content'])"
   ]
  },
  {
   "cell_type": "code",
   "execution_count": null,
   "id": "97d9ee3c-5b30-4087-b68f-c63408ad2870",
   "metadata": {},
   "outputs": [],
   "source": []
  }
 ],
 "metadata": {
  "kernelspec": {
   "display_name": "Python 3 (ipykernel)",
   "language": "python",
   "name": "python3"
  },
  "language_info": {
   "codemirror_mode": {
    "name": "ipython",
    "version": 3
   },
   "file_extension": ".py",
   "mimetype": "text/x-python",
   "name": "python",
   "nbconvert_exporter": "python",
   "pygments_lexer": "ipython3",
   "version": "3.11.12"
  }
 },
 "nbformat": 4,
 "nbformat_minor": 5
}
